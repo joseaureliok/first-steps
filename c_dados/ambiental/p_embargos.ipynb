{
 "cells": [
  {
   "cell_type": "code",
   "execution_count": null,
   "id": "8c7a6f86",
   "metadata": {},
   "outputs": [],
   "source": [
    "#nomeando\n",
    "\"\"\"Notebook modelo com teste de importação e tratamento de dados sobre embargos ambientais\"\"\""
   ]
  },
  {
   "cell_type": "code",
   "execution_count": null,
   "id": "28c5fcfe",
   "metadata": {},
   "outputs": [],
   "source": [
    "#importando pacotes\n",
    "import streamlit as st\n",
    "import pandas as pd\n",
    "import pydeck as pdk\n",
    "import datetime as dt"
   ]
  },
  {
   "cell_type": "code",
   "execution_count": null,
   "id": "7afd696f",
   "metadata": {},
   "outputs": [],
   "source": [
    "#carregando dados\n",
    "df=pd.read_csv(\"termo.csv\",sep=\";\")"
   ]
  },
  {
   "cell_type": "code",
   "execution_count": null,
   "id": "f485534e",
   "metadata": {},
   "outputs": [],
   "source": [
    "#renomeando e conferindo dataframe\n",
    "df_data= df\n",
    "\n",
    "df_data.head(5)"
   ]
  },
  {
   "cell_type": "code",
   "execution_count": null,
   "id": "119c736f",
   "metadata": {},
   "outputs": [],
   "source": [
    "#verificando tipos de dados\n",
    "df_data.dtypes"
   ]
  },
  {
   "cell_type": "code",
   "execution_count": null,
   "id": "c6eec526",
   "metadata": {},
   "outputs": [],
   "source": [
    "#selecionando as colunas que serão trabalhadas\n",
    "df_data=df_data[['DAT_EMBARGO','NUM_LATITUDE_TAD','NUM_LONGITUDE_TAD']]\n",
    "\n",
    "df_data.dtypes"
   ]
  },
  {
   "cell_type": "code",
   "execution_count": null,
   "id": "29594609",
   "metadata": {},
   "outputs": [],
   "source": [
    "#renomeando as colunas selecionadas\n",
    "df_data=df_data.rename(columns={'DAT_EMBARGO':'data','NUM_LATITUDE_TAD':'latitude','NUM_LONGITUDE_TAD':'longitude'})\n",
    "\n",
    "df_data.dtypes"
   ]
  },
  {
   "cell_type": "code",
   "execution_count": null,
   "id": "1c8f3dd7",
   "metadata": {},
   "outputs": [],
   "source": [
    "#transformando dados da coluna 'data' em data\n",
    "df_data['data'] = pd.to_datetime(df_data['data'])"
   ]
  },
  {
   "cell_type": "code",
   "execution_count": null,
   "id": "1d128d77",
   "metadata": {},
   "outputs": [],
   "source": [
    "#verificando alteração\n",
    "df_data.dtypes"
   ]
  },
  {
   "cell_type": "code",
   "execution_count": null,
   "id": "9c0eef87",
   "metadata": {},
   "outputs": [],
   "source": [
    "#transformando valores '0' em <NA>\n",
    "df_data.replace('0', pd.NA, inplace=True)\n",
    "\n",
    "df_data"
   ]
  },
  {
   "cell_type": "code",
   "execution_count": null,
   "id": "e903939b",
   "metadata": {},
   "outputs": [],
   "source": [
    "#dropando dados nulos <NaN> e <NA>\n",
    "df_data=df_data.dropna()\n",
    "df_data.isnull().sum()"
   ]
  },
  {
   "cell_type": "code",
   "execution_count": null,
   "id": "f4a1ef80",
   "metadata": {},
   "outputs": [],
   "source": [
    "#verificando drop\n",
    "display(df_data)"
   ]
  },
  {
   "cell_type": "code",
   "execution_count": null,
   "id": "9b148ee4",
   "metadata": {},
   "outputs": [],
   "source": [
    "#trabalhando dashboard\n",
    "st.title(\"Embargos Ambientais\")\n",
    "st.markdown(\n",
    "    \"\"\"\n",
    "    O tratamento das condições ambientais deve ser prioridade no Mundo e \n",
    "    o Brasil é o centro das atenções dessas medidas, em razão da extensão \n",
    "    e diversidade que o acoberta.\n",
    "    Aqui são apresentados dados referentes aos embargos ambientais, com data \n",
    "    e localidade.\n",
    "    \"\"\"\n",
    ")"
   ]
  },
  {
   "cell_type": "code",
   "execution_count": null,
   "id": "e5e496f8",
   "metadata": {},
   "outputs": [],
   "source": [
    "# trabalhando com sidebar\n",
    "st.sidebar.info(\"Foram carregadas {} linhas.\".format(df_data.shape[0]))\n",
    "\n",
    "if st.sidebar.checkbox(\"Ver tabela com dados\"):\n",
    "    st.header(\"data\")\n",
    "    st.write(df_data)\n",
    "\n",
    "df_data.data = pd.to_datetime(df_data.data)\n",
    "ano_selecionado = st.sidebar.slider(\"Selecione um ano\", 2018, 2019, 2020, 2021)\n",
    "df_selected = df_data[df_data.data.dt.year == ano_selecionado]"
   ]
  },
  {
   "cell_type": "code",
   "execution_count": null,
   "id": "a2a5409b",
   "metadata": {},
   "outputs": [],
   "source": [
    "#trabalhando mapa\n",
    "\n",
    "st.subheader(\"Mapa Embargos Ambientais\")\n",
    "\n",
    "st.pydeck_chart(pdk.Deck(\n",
    "    map_style='mapbox://styles/mapbox/light-v9',\n",
    "    initial_view_state=pdk.ViewState(\n",
    "        latitude=-17.47528,\n",
    "        longitude=-52.61417,\n",
    "        zoom=5,\n",
    "        pitch=50,\n",
    "    ),\n",
    "    layers=[\n",
    "        pdk.Layer(\n",
    "            'HexagonLayer',\n",
    "            data=df_selecao[['latitude', 'longitude']],\n",
    "            get_position='[latitude, longitude]',\n",
    "            radius=200,\n",
    "            #auto_highlight=True,\n",
    "            elevation_scale=4,\n",
    "            elevation_range=[0, 3000],\n",
    "            pickable=True,\n",
    "            extruded=True,\n",
    "            #coverage=1,\n",
    "        ),\n",
    "        pdk.Layer(\n",
    "            'ScatterplotLayer',\n",
    "            data=df_selecao,\n",
    "            get_position='[latitude, longitude]',\n",
    "            get_color='[200, 30, 0, 160]',\n",
    "            get_radius=200,\n",
    "        ),\n",
    "    ],\n",
    "))"
   ]
  },
  {
   "cell_type": "code",
   "execution_count": null,
   "id": "0695daa1",
   "metadata": {},
   "outputs": [],
   "source": []
  }
 ],
 "metadata": {
  "kernelspec": {
   "display_name": "Python 3",
   "language": "python",
   "name": "python3"
  },
  "language_info": {
   "codemirror_mode": {
    "name": "ipython",
    "version": 3
   },
   "file_extension": ".py",
   "mimetype": "text/x-python",
   "name": "python",
   "nbconvert_exporter": "python",
   "pygments_lexer": "ipython3",
   "version": "3.9.0"
  }
 },
 "nbformat": 4,
 "nbformat_minor": 5
}
